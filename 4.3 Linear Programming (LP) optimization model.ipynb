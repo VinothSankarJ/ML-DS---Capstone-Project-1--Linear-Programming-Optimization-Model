{
 "cells": [
  {
   "cell_type": "code",
   "execution_count": 1,
   "id": "cca49246",
   "metadata": {},
   "outputs": [],
   "source": [
    "import pandas as pd\n",
    "\n",
    "# Load each CSV file into pandas DataFrames\n",
    "order_list = pd.read_csv('preprocessed_OrderList.csv')\n",
    "freight_rates = pd.read_csv('preprocessed_FreightRates.csv')\n",
    "wh_costs = pd.read_csv('preprocessed_WhCosts.csv')\n",
    "wh_capacities = pd.read_csv('preprocessed_WhCapacities.csv')\n",
    "products_per_plant = pd.read_csv('preprocessed_ProductsPerPlant.csv')\n",
    "vmi_customers = pd.read_csv('preprocessed_VmiCustomers.csv')\n",
    "plant_ports = pd.read_csv('preprocessed_PlantPorts.csv')\n"
   ]
  },
  {
   "cell_type": "code",
   "execution_count": 2,
   "id": "f0c921b8",
   "metadata": {},
   "outputs": [
    {
     "name": "stdout",
     "output_type": "stream",
     "text": [
      "Order List:\n",
      "       Order ID  Order Date Origin Port Carrier  TPT Service Level  \\\n",
      "0  1.447296e+09  2013-05-26      PORT09   V44_3    1           CRF   \n",
      "1  1.447158e+09  2013-05-26      PORT09   V44_3    1           CRF   \n",
      "2  1.447139e+09  2013-05-26      PORT09   V44_3    1           CRF   \n",
      "3  1.447364e+09  2013-05-26      PORT09   V44_3    1           CRF   \n",
      "4  1.447364e+09  2013-05-26      PORT09   V44_3    1           CRF   \n",
      "\n",
      "   Ship ahead day count  Ship Late Day count   Customer  Product ID  \\\n",
      "0                     3                    0  V55555_53     1700106   \n",
      "1                     3                    0  V55555_53     1700106   \n",
      "2                     3                    0  V55555_53     1700106   \n",
      "3                     3                    0  V55555_53     1700106   \n",
      "4                     3                    0  V55555_53     1700106   \n",
      "\n",
      "  Plant Code Destination Port  Unit quantity  Weight  \n",
      "0    PLANT16           PORT09            808   14.30  \n",
      "1    PLANT16           PORT09           3188   87.94  \n",
      "2    PLANT16           PORT09           2331   61.20  \n",
      "3    PLANT16           PORT09            847   16.16  \n",
      "4    PLANT16           PORT09           2163   52.34  \n",
      "\n",
      "Freight Rates:\n",
      "  Carrier orig_port_cd dest_port_cd  minm_wgh_qty  max_wgh_qty svc_cd  \\\n",
      "0  V444_6       PORT08       PORT09         250.0       499.99    DTD   \n",
      "1  V444_6       PORT08       PORT09          65.0        69.99    DTD   \n",
      "2  V444_6       PORT08       PORT09          60.0        64.99    DTD   \n",
      "3  V444_6       PORT08       PORT09          50.0        54.99    DTD   \n",
      "4  V444_6       PORT08       PORT09          35.0        39.99    DTD   \n",
      "\n",
      "   minimum cost    rate mode_dsc  tpt_day_cnt Carrier type  \n",
      "0       43.2272  0.7132   AIR               2  V88888888_0  \n",
      "1       43.2272  0.7512   AIR               2  V88888888_0  \n",
      "2       43.2272  0.7892   AIR               2  V88888888_0  \n",
      "3       43.2272  0.8272   AIR               2  V88888888_0  \n",
      "4       43.2272  1.0552   AIR               2  V88888888_0  \n",
      "\n",
      "Warehouse Costs:\n",
      "        WH  Cost/unit\n",
      "0  PLANT15   1.415063\n",
      "1  PLANT17   0.428947\n",
      "2  PLANT18   2.036254\n",
      "3  PLANT05   0.488144\n",
      "4  PLANT02   0.477504\n",
      "\n",
      "Warehouse Capacities:\n",
      "  Plant ID  Daily Capacity \n",
      "0  PLANT15               11\n",
      "1  PLANT17                8\n",
      "2  PLANT18              111\n",
      "3  PLANT05              385\n",
      "4  PLANT02              138\n",
      "\n",
      "Products per Plant:\n",
      "  Plant Code  Product ID\n",
      "0    PLANT15     1698815\n",
      "1    PLANT17     1664419\n",
      "2    PLANT17     1664426\n",
      "3    PLANT17     1672826\n",
      "4    PLANT17     1674916\n",
      "\n",
      "VMI Customers:\n",
      "  Plant Code            Customers\n",
      "0    PLANT02    V5555555555555_16\n",
      "1    PLANT02  V555555555555555_29\n",
      "2    PLANT02         V555555555_3\n",
      "3    PLANT02    V55555555555555_8\n",
      "4    PLANT02          V55555555_9\n",
      "\n",
      "Plant Ports:\n",
      "  Plant Code    Port\n",
      "0    PLANT01  PORT01\n",
      "1    PLANT01  PORT02\n",
      "2    PLANT02  PORT03\n",
      "3    PLANT03  PORT04\n",
      "4    PLANT04  PORT05\n"
     ]
    }
   ],
   "source": [
    "# Displaying the first few rows and columns of each DataFrame\n",
    "print(\"Order List:\")\n",
    "print(order_list.head())\n",
    "\n",
    "print(\"\\nFreight Rates:\")\n",
    "print(freight_rates.head())\n",
    "\n",
    "print(\"\\nWarehouse Costs:\")\n",
    "print(wh_costs.head())\n",
    "\n",
    "print(\"\\nWarehouse Capacities:\")\n",
    "print(wh_capacities.head())\n",
    "\n",
    "print(\"\\nProducts per Plant:\")\n",
    "print(products_per_plant.head())\n",
    "\n",
    "print(\"\\nVMI Customers:\")\n",
    "print(vmi_customers.head())\n",
    "\n",
    "print(\"\\nPlant Ports:\")\n",
    "print(plant_ports.head())\n"
   ]
  },
  {
   "cell_type": "code",
   "execution_count": 3,
   "id": "f91ec76b",
   "metadata": {},
   "outputs": [],
   "source": [
    "# Merge tables step-by-step\n",
    "merged_data = pd.merge(order_list, products_per_plant, on=['Plant Code', 'Product ID'], how='left')\n",
    "merged_data = pd.merge(merged_data, plant_ports, on='Plant Code', how='left')\n",
    "merged_data = pd.merge(merged_data, freight_rates, left_on=['Carrier', 'Origin Port', 'Destination Port'],\n",
    "                       right_on=['Carrier', 'orig_port_cd', 'dest_port_cd'], how='left')\n",
    "merged_data = pd.merge(merged_data, wh_costs, left_on='Plant Code', right_on='WH', how='left')\n",
    "merged_data = pd.merge(merged_data, wh_capacities, left_on='Plant Code', right_on='Plant ID', how='left')\n",
    "merged_data = pd.merge(merged_data, vmi_customers, left_on=['Plant Code', 'Customer'], right_on=['Plant Code', 'Customers'], how='left')\n"
   ]
  },
  {
   "cell_type": "code",
   "execution_count": 4,
   "id": "daffae44",
   "metadata": {},
   "outputs": [
    {
     "name": "stdout",
     "output_type": "stream",
     "text": [
      "\n",
      "Merged Dataset:\n",
      "       Order ID  Order Date Origin Port Carrier  TPT Service Level  \\\n",
      "0  1.447296e+09  2013-05-26      PORT09   V44_3    1           CRF   \n",
      "1  1.447158e+09  2013-05-26      PORT09   V44_3    1           CRF   \n",
      "2  1.447139e+09  2013-05-26      PORT09   V44_3    1           CRF   \n",
      "3  1.447364e+09  2013-05-26      PORT09   V44_3    1           CRF   \n",
      "4  1.447364e+09  2013-05-26      PORT09   V44_3    1           CRF   \n",
      "\n",
      "   Ship ahead day count  Ship Late Day count   Customer  Product ID  ...  \\\n",
      "0                     3                    0  V55555_53     1700106  ...   \n",
      "1                     3                    0  V55555_53     1700106  ...   \n",
      "2                     3                    0  V55555_53     1700106  ...   \n",
      "3                     3                    0  V55555_53     1700106  ...   \n",
      "4                     3                    0  V55555_53     1700106  ...   \n",
      "\n",
      "  minimum cost rate  mode_dsc  tpt_day_cnt Carrier type       WH Cost/unit  \\\n",
      "0          NaN  NaN       NaN          NaN          NaN  PLANT16  1.919808   \n",
      "1          NaN  NaN       NaN          NaN          NaN  PLANT16  1.919808   \n",
      "2          NaN  NaN       NaN          NaN          NaN  PLANT16  1.919808   \n",
      "3          NaN  NaN       NaN          NaN          NaN  PLANT16  1.919808   \n",
      "4          NaN  NaN       NaN          NaN          NaN  PLANT16  1.919808   \n",
      "\n",
      "   Plant ID  Daily Capacity  Customers  \n",
      "0   PLANT16              457       NaN  \n",
      "1   PLANT16              457       NaN  \n",
      "2   PLANT16              457       NaN  \n",
      "3   PLANT16              457       NaN  \n",
      "4   PLANT16              457       NaN  \n",
      "\n",
      "[5 rows x 30 columns]\n"
     ]
    }
   ],
   "source": [
    "# Display the merged dataset\n",
    "print(\"\\nMerged Dataset:\")\n",
    "print(merged_data.head())"
   ]
  },
  {
   "cell_type": "code",
   "execution_count": 5,
   "id": "7e3fd6a4",
   "metadata": {},
   "outputs": [],
   "source": [
    "#pip install pulp\n"
   ]
  },
  {
   "cell_type": "code",
   "execution_count": 6,
   "id": "5c068d48",
   "metadata": {},
   "outputs": [],
   "source": [
    "import pandas as pd\n",
    "import pulp"
   ]
  },
  {
   "cell_type": "code",
   "execution_count": 7,
   "id": "abcdfc14",
   "metadata": {},
   "outputs": [],
   "source": [
    "merged_data = pd.merge(order_list, freight_rates, left_on=['Carrier', 'Origin Port', 'Destination Port'], right_on=['Carrier', 'orig_port_cd', 'dest_port_cd'], how='left')\n",
    "merged_data = pd.merge(merged_data, wh_costs, left_on='Plant Code', right_on='WH', how='left')\n",
    "merged_data = pd.merge(merged_data, wh_capacities, left_on='Plant Code', right_on='Plant ID', how='left')\n",
    "merged_data = pd.merge(merged_data, products_per_plant, on=['Plant Code', 'Product ID'], how='left')\n",
    "merged_data = pd.merge(merged_data, vmi_customers.rename(columns={\"Customers\": \"Customer\"}), on=['Plant Code', 'Customer'], how='left')\n",
    "merged_data = pd.merge(merged_data, plant_ports, on='Plant Code', how='left')"
   ]
  },
  {
   "cell_type": "code",
   "execution_count": 8,
   "id": "c5baaf2b",
   "metadata": {},
   "outputs": [],
   "source": [
    "merged_data = pd.DataFrame({\n",
    "    'Order ID': ['Order1', 'Order2', 'Order3'],\n",
    "    'Product ID': ['Product1', 'Product2', 'Product1'],\n",
    "    'Plant Code': ['Plant1', 'Plant2', 'Plant1'],\n",
    "    'Unit quantity': [100, 150, 80],\n",
    "    'Weight': [200, 300, 150]\n",
    "})"
   ]
  },
  {
   "cell_type": "code",
   "execution_count": 12,
   "id": "b9848085",
   "metadata": {},
   "outputs": [],
   "source": [
    "# Define products, plants, and routes\n",
    "products = merged_data['Product ID'].unique().tolist()\n",
    "plants = merged_data['Plant Code'].unique().tolist()\n",
    "routes = ['Route1', 'Route2', 'Route3']"
   ]
  },
  {
   "cell_type": "code",
   "execution_count": 13,
   "id": "7960a571",
   "metadata": {},
   "outputs": [],
   "source": [
    "# Create the LP problem instance\n",
    "prob = pulp.LpProblem(\"Route_Optimization\", pulp.LpMinimize)\n"
   ]
  },
  {
   "cell_type": "code",
   "execution_count": 14,
   "id": "495f1917",
   "metadata": {},
   "outputs": [],
   "source": [
    "# Decision Variables\n",
    "x = pulp.LpVariable.dicts(\"route\", ((p, pl, r) for p in products for pl in plants for r in routes), lowBound=0, cat='Continuous')\n"
   ]
  },
  {
   "cell_type": "code",
   "execution_count": 15,
   "id": "72935bae",
   "metadata": {},
   "outputs": [],
   "source": [
    "# Define cost, supply capacity, and product demand dictionaries\n",
    "# Example: Adjust these with actual data\n",
    "cost = {(p, pl, r): 10 for p in products for pl in plants for r in routes}\n",
    "plant_capacity = {'Plant1': 500, 'Plant2': 700}\n",
    "product_demand = {'Product1': 250, 'Product2': 200}"
   ]
  },
  {
   "cell_type": "code",
   "execution_count": 16,
   "id": "66f77662",
   "metadata": {},
   "outputs": [],
   "source": [
    "# Objective Function: Minimize total cost\n",
    "prob += pulp.lpSum(cost[p, pl, r] * x[p, pl, r] for p in products for pl in plants for r in routes), \"Total_Cost\"\n"
   ]
  },
  {
   "cell_type": "code",
   "execution_count": 17,
   "id": "69ce0152",
   "metadata": {},
   "outputs": [],
   "source": [
    "# Constraints\n",
    "for pl in plants:\n",
    "    prob += pulp.lpSum(x[p, pl, r] for p in products for r in routes) <= plant_capacity[pl], f\"Supply_{pl}\"\n",
    "\n",
    "for p in products:\n",
    "    prob += pulp.lpSum(x[p, pl, r] for pl in plants for r in routes) >= product_demand[p], f\"Demand_{p}\"\n"
   ]
  },
  {
   "cell_type": "code",
   "execution_count": 18,
   "id": "ebdc8696",
   "metadata": {},
   "outputs": [
    {
     "data": {
      "text/plain": [
       "1"
      ]
     },
     "execution_count": 18,
     "metadata": {},
     "output_type": "execute_result"
    }
   ],
   "source": [
    "# Solve the problem\n",
    "prob.solve()\n"
   ]
  },
  {
   "cell_type": "code",
   "execution_count": 19,
   "id": "3ec705c7",
   "metadata": {},
   "outputs": [
    {
     "name": "stdout",
     "output_type": "stream",
     "text": [
      "Status: Optimal\n"
     ]
    }
   ],
   "source": [
    "# Print the status of the solution\n",
    "print(f\"Status: {pulp.LpStatus[prob.status]}\")\n"
   ]
  },
  {
   "cell_type": "code",
   "execution_count": 20,
   "id": "2a61965b",
   "metadata": {},
   "outputs": [
    {
     "name": "stdout",
     "output_type": "stream",
     "text": [
      "Route Route1 for product Product1 at plant Plant2: 250.0\n",
      "Route Route1 for product Product2 at plant Plant2: 200.0\n"
     ]
    }
   ],
   "source": [
    "# Access and print variable values\n",
    "for p in products:\n",
    "    for pl in plants:\n",
    "        for r in routes:\n",
    "            if pulp.value(x[p, pl, r]) > 0:\n",
    "                print(f\"Route {r} for product {p} at plant {pl}: {pulp.value(x[p, pl, r])}\")\n"
   ]
  },
  {
   "cell_type": "code",
   "execution_count": 21,
   "id": "d7b7448f",
   "metadata": {},
   "outputs": [
    {
     "name": "stdout",
     "output_type": "stream",
     "text": [
      "\n",
      "Problem formulation:\n",
      "Route_Optimization:\n",
      "MINIMIZE\n",
      "10*route_('Product1',_'Plant1',_'Route1') + 10*route_('Product1',_'Plant1',_'Route2') + 10*route_('Product1',_'Plant1',_'Route3') + 10*route_('Product1',_'Plant2',_'Route1') + 10*route_('Product1',_'Plant2',_'Route2') + 10*route_('Product1',_'Plant2',_'Route3') + 10*route_('Product2',_'Plant1',_'Route1') + 10*route_('Product2',_'Plant1',_'Route2') + 10*route_('Product2',_'Plant1',_'Route3') + 10*route_('Product2',_'Plant2',_'Route1') + 10*route_('Product2',_'Plant2',_'Route2') + 10*route_('Product2',_'Plant2',_'Route3') + 0\n",
      "SUBJECT TO\n",
      "Supply_Plant1: route_('Product1',_'Plant1',_'Route1')\n",
      " + route_('Product1',_'Plant1',_'Route2')\n",
      " + route_('Product1',_'Plant1',_'Route3')\n",
      " + route_('Product2',_'Plant1',_'Route1')\n",
      " + route_('Product2',_'Plant1',_'Route2')\n",
      " + route_('Product2',_'Plant1',_'Route3') <= 500\n",
      "\n",
      "Supply_Plant2: route_('Product1',_'Plant2',_'Route1')\n",
      " + route_('Product1',_'Plant2',_'Route2')\n",
      " + route_('Product1',_'Plant2',_'Route3')\n",
      " + route_('Product2',_'Plant2',_'Route1')\n",
      " + route_('Product2',_'Plant2',_'Route2')\n",
      " + route_('Product2',_'Plant2',_'Route3') <= 700\n",
      "\n",
      "Demand_Product1: route_('Product1',_'Plant1',_'Route1')\n",
      " + route_('Product1',_'Plant1',_'Route2')\n",
      " + route_('Product1',_'Plant1',_'Route3')\n",
      " + route_('Product1',_'Plant2',_'Route1')\n",
      " + route_('Product1',_'Plant2',_'Route2')\n",
      " + route_('Product1',_'Plant2',_'Route3') >= 250\n",
      "\n",
      "Demand_Product2: route_('Product2',_'Plant1',_'Route1')\n",
      " + route_('Product2',_'Plant1',_'Route2')\n",
      " + route_('Product2',_'Plant1',_'Route3')\n",
      " + route_('Product2',_'Plant2',_'Route1')\n",
      " + route_('Product2',_'Plant2',_'Route2')\n",
      " + route_('Product2',_'Plant2',_'Route3') >= 200\n",
      "\n",
      "VARIABLES\n",
      "route_('Product1',_'Plant1',_'Route1') Continuous\n",
      "route_('Product1',_'Plant1',_'Route2') Continuous\n",
      "route_('Product1',_'Plant1',_'Route3') Continuous\n",
      "route_('Product1',_'Plant2',_'Route1') Continuous\n",
      "route_('Product1',_'Plant2',_'Route2') Continuous\n",
      "route_('Product1',_'Plant2',_'Route3') Continuous\n",
      "route_('Product2',_'Plant1',_'Route1') Continuous\n",
      "route_('Product2',_'Plant1',_'Route2') Continuous\n",
      "route_('Product2',_'Plant1',_'Route3') Continuous\n",
      "route_('Product2',_'Plant2',_'Route1') Continuous\n",
      "route_('Product2',_'Plant2',_'Route2') Continuous\n",
      "route_('Product2',_'Plant2',_'Route3') Continuous\n",
      "\n"
     ]
    }
   ],
   "source": [
    "# Optionally, print the complete problem formulation\n",
    "print(\"\\nProblem formulation:\")\n",
    "print(prob)\n"
   ]
  },
  {
   "cell_type": "code",
   "execution_count": 22,
   "id": "6e66489e",
   "metadata": {},
   "outputs": [],
   "source": [
    "# Save the model using pickle\n",
    "import pickle\n"
   ]
  },
  {
   "cell_type": "code",
   "execution_count": 23,
   "id": "4dd58867",
   "metadata": {},
   "outputs": [],
   "source": [
    "# Save the LP problem instance\n",
    "with open('route_optimization_model.pkl', 'wb') as f:\n",
    "    pickle.dump(prob, f)"
   ]
  },
  {
   "cell_type": "code",
   "execution_count": 1,
   "id": "785072ad",
   "metadata": {},
   "outputs": [],
   "source": [
    "import pulp"
   ]
  },
  {
   "cell_type": "code",
   "execution_count": 2,
   "id": "c6544baf",
   "metadata": {},
   "outputs": [],
   "source": [
    "# Define the products, plants, and routes\n",
    "products = ['Product1', 'Product2']\n",
    "plants = ['Plant1', 'Plant2']\n",
    "routes = ['Route1', 'Route2', 'Route3']"
   ]
  },
  {
   "cell_type": "code",
   "execution_count": 3,
   "id": "78589741",
   "metadata": {},
   "outputs": [],
   "source": [
    "# Create the LP problem\n",
    "prob = pulp.LpProblem(\"Route_Optimization\", pulp.LpMinimize)\n"
   ]
  },
  {
   "cell_type": "code",
   "execution_count": 4,
   "id": "22ad4446",
   "metadata": {},
   "outputs": [],
   "source": [
    "# Create decision variables\n",
    "x = pulp.LpVariable.dicts(\"route\", ((p, pl, r) for p in products for pl in plants for r in routes), lowBound=0, cat='Continuous')\n"
   ]
  },
  {
   "cell_type": "code",
   "execution_count": 5,
   "id": "aea71304",
   "metadata": {},
   "outputs": [],
   "source": [
    "# Define costs (for simplicity, using a constant cost of 10 for all routes)\n",
    "cost = { (p, pl, r): 10 for p in products for pl in plants for r in routes }"
   ]
  },
  {
   "cell_type": "code",
   "execution_count": 6,
   "id": "46de8d48",
   "metadata": {},
   "outputs": [],
   "source": [
    "# Add objective function\n",
    "prob += pulp.lpSum(cost[p, pl, r] * x[p, pl, r] for p in products for pl in plants for r in routes)\n"
   ]
  },
  {
   "cell_type": "code",
   "execution_count": 7,
   "id": "e8f7d200",
   "metadata": {},
   "outputs": [],
   "source": [
    "# Add supply constraints\n",
    "prob += pulp.lpSum(x['Product1', 'Plant1', r] for r in routes) + pulp.lpSum(x['Product2', 'Plant1', r] for r in routes) <= 500, \"Supply_Plant1\"\n",
    "prob += pulp.lpSum(x['Product1', 'Plant2', r] for r in routes) + pulp.lpSum(x['Product2', 'Plant2', r] for r in routes) <= 700, \"Supply_Plant2\"\n"
   ]
  },
  {
   "cell_type": "code",
   "execution_count": 8,
   "id": "96ced643",
   "metadata": {},
   "outputs": [],
   "source": [
    "# Add demand constraints\n",
    "prob += pulp.lpSum(x['Product1', pl, r] for pl in plants for r in routes) >= 250, \"Demand_Product1\"\n",
    "prob += pulp.lpSum(x['Product2', pl, r] for pl in plants for r in routes) >= 200, \"Demand_Product2\"\n"
   ]
  },
  {
   "cell_type": "code",
   "execution_count": 9,
   "id": "f2affcbe",
   "metadata": {},
   "outputs": [
    {
     "data": {
      "text/plain": [
       "1"
      ]
     },
     "execution_count": 9,
     "metadata": {},
     "output_type": "execute_result"
    }
   ],
   "source": [
    "# Solve the problem\n",
    "prob.solve()"
   ]
  },
  {
   "cell_type": "code",
   "execution_count": 10,
   "id": "bff24f05",
   "metadata": {},
   "outputs": [
    {
     "name": "stdout",
     "output_type": "stream",
     "text": [
      "Status: Optimal\n"
     ]
    }
   ],
   "source": [
    "# Print the status of the solution\n",
    "print(\"Status:\", pulp.LpStatus[prob.status])"
   ]
  },
  {
   "cell_type": "code",
   "execution_count": 11,
   "id": "4af4e840",
   "metadata": {},
   "outputs": [
    {
     "name": "stdout",
     "output_type": "stream",
     "text": [
      "route_('Product1',_'Plant1',_'Route1') = 0.0\n",
      "route_('Product1',_'Plant1',_'Route2') = 0.0\n",
      "route_('Product1',_'Plant1',_'Route3') = 0.0\n",
      "route_('Product1',_'Plant2',_'Route1') = 250.0\n",
      "route_('Product1',_'Plant2',_'Route2') = 0.0\n",
      "route_('Product1',_'Plant2',_'Route3') = 0.0\n",
      "route_('Product2',_'Plant1',_'Route1') = 0.0\n",
      "route_('Product2',_'Plant1',_'Route2') = 0.0\n",
      "route_('Product2',_'Plant1',_'Route3') = 0.0\n",
      "route_('Product2',_'Plant2',_'Route1') = 200.0\n",
      "route_('Product2',_'Plant2',_'Route2') = 0.0\n",
      "route_('Product2',_'Plant2',_'Route3') = 0.0\n"
     ]
    }
   ],
   "source": [
    "# Print the optimal solution\n",
    "for v in prob.variables():\n",
    "    print(v.name, \"=\", v.varValue)"
   ]
  },
  {
   "cell_type": "code",
   "execution_count": 12,
   "id": "b06be32b",
   "metadata": {},
   "outputs": [
    {
     "name": "stdout",
     "output_type": "stream",
     "text": [
      "Total Cost = 4500.0\n"
     ]
    }
   ],
   "source": [
    "# Print the optimized objective function value\n",
    "print(\"Total Cost =\", pulp.value(prob.objective))"
   ]
  },
  {
   "cell_type": "code",
   "execution_count": 13,
   "id": "4ad5dbf4",
   "metadata": {},
   "outputs": [],
   "source": [
    "import json\n",
    "\n",
    "# Extract the optimal solution\n",
    "solution = {v.name: v.varValue for v in prob.variables()}\n",
    "solution['Total Cost'] = pulp.value(prob.objective)\n",
    "\n",
    "# Save to a JSON file\n",
    "with open('model_solution.json', 'w') as f:\n",
    "    json.dump(solution, f)\n"
   ]
  },
  {
   "cell_type": "code",
   "execution_count": null,
   "id": "08e25a95",
   "metadata": {},
   "outputs": [],
   "source": []
  }
 ],
 "metadata": {
  "kernelspec": {
   "display_name": "Python 3 (ipykernel)",
   "language": "python",
   "name": "python3"
  },
  "language_info": {
   "codemirror_mode": {
    "name": "ipython",
    "version": 3
   },
   "file_extension": ".py",
   "mimetype": "text/x-python",
   "name": "python",
   "nbconvert_exporter": "python",
   "pygments_lexer": "ipython3",
   "version": "3.7.6"
  }
 },
 "nbformat": 4,
 "nbformat_minor": 5
}
